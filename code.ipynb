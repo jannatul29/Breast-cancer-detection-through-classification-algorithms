
import pandas as pd
import numpy as np
import seaborn as sns
import matplotlib.pyplot as polt

cancer = pd.read_csv('cancer.csv')

sns.countplot(x="Class",data=cancer)

sns.countplot(x="Class",hue="Age",data=cancer)

sns.countplot(x="Class",hue="Menopause",data=cancer)

cancer.info()

from sklearn.preprocessing import LabelEncoder
labelencoder_X = LabelEncoder()
cancer['Class'] = labelencoder_X.fit_transform(cancer.Class)
cancer['Age'] = labelencoder_X.fit_transform(cancer.Age)
cancer['Menopause'] = labelencoder_X.fit_transform(cancer.Menopause)
cancer['Tsize'] = labelencoder_X.fit_transform(cancer.Tsize)
cancer['NodeCaps'] = labelencoder_X.fit_transform(cancer.NodeCaps)
cancer['Breast'] = labelencoder_X.fit_transform(cancer.Breast)
cancer['BreastQuad'] = labelencoder_X.fit_transform(cancer.BreastQuad)
cancer['Irradi'] = labelencoder_X.fit_transform(cancer.Irradi)
print(cancer)

cancer.isnull()

cancer.isnull().sum()

cancer.drop(cancer.columns[[4]], axis = 1, inplace=True)

cancer.isnull().sum()

X=cancer.drop("Class",axis=1)
Y=cancer["Class"]
