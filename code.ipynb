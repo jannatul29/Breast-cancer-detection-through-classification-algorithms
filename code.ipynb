
import pandas as pd
import numpy as np
import seaborn as sns
import matplotlib.pyplot as polt
cancer = pd.read_csv('cancer.csv')
sns.countplot(x="Class",data=cancer)
sns.countplot(x="Class",hue="Age",data=cancer)
